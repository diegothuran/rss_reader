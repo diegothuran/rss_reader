{
 "cells": [
  {
   "cell_type": "code",
   "execution_count": 2,
   "metadata": {},
   "outputs": [],
   "source": [
    "import feedparser\n",
    "import pandas as pd\n",
    "import tldextract\n",
    "from Util import download_image, extract_domain, downlaod_and_move_image, get_noticia_uol, get_noticia_comercio\n",
    "import os"
   ]
  },
  {
   "cell_type": "code",
   "execution_count": 4,
   "metadata": {},
   "outputs": [],
   "source": [
    "hit_list = [\"https://feeds.folha.uol.com.br/poder/rss091.xml\"]\n",
    "\n",
    "future_calls = [feedparser.parse(rss_url) for rss_url in hit_list]"
   ]
  },
  {
   "cell_type": "code",
   "execution_count": 10,
   "metadata": {},
   "outputs": [],
   "source": [
    "entries = []\n",
    "for feed in future_calls:\n",
    "    entries.extend( feed[ \"items\" ] )"
   ]
  },
  {
   "cell_type": "code",
   "execution_count": 14,
   "metadata": {},
   "outputs": [
    {
     "data": {
      "text/plain": [
       "{'title': 'Por conta irregular, 7.431 estão com a candidatura ameaçada',\n",
       " 'title_detail': {'type': 'text/plain',\n",
       "  'language': None,\n",
       "  'base': 'https://feeds.folha.uol.com.br/poder/rss091.xml',\n",
       "  'value': 'Por conta irregular, 7.431 estão com a candidatura ameaçada'},\n",
       " 'links': [{'rel': 'alternate',\n",
       "   'type': 'text/html',\n",
       "   'href': 'https://redir.folha.com.br/redir/online/poder/rss091/*https://www1.folha.uol.com.br/poder/2018/07/por-conta-irregular-7431-estao-com-a-candidatura-ameacada.shtml'}],\n",
       " 'link': 'https://redir.folha.com.br/redir/online/poder/rss091/*https://www1.folha.uol.com.br/poder/2018/07/por-conta-irregular-7431-estao-com-a-candidatura-ameacada.shtml',\n",
       " 'summary': 'Chega a 7.431 o número de gestores públicos considerados inelegíveis pelo TCU (Tribunal de Contas da União) e que, este ano, estão com suas candidaturas comprometidas.\\n<a href=\"https://redir.folha.com.br/redir/online/poder/rss091/*https://www1.folha.uol.com.br/poder/2018/07/por-conta-irregular-7431-estao-com-a-candidatura-ameacada.shtml\">Leia mais</a> (07/25/2018 - 22h41)',\n",
       " 'summary_detail': {'type': 'text/html',\n",
       "  'language': None,\n",
       "  'base': 'https://feeds.folha.uol.com.br/poder/rss091.xml',\n",
       "  'value': 'Chega a 7.431 o número de gestores públicos considerados inelegíveis pelo TCU (Tribunal de Contas da União) e que, este ano, estão com suas candidaturas comprometidas.\\n<a href=\"https://redir.folha.com.br/redir/online/poder/rss091/*https://www1.folha.uol.com.br/poder/2018/07/por-conta-irregular-7431-estao-com-a-candidatura-ameacada.shtml\">Leia mais</a> (07/25/2018 - 22h41)'},\n",
       " 'published': '25 Jul 2018 22:41:00 -0300',\n",
       " 'published_parsed': time.struct_time(tm_year=2018, tm_mon=7, tm_mday=26, tm_hour=1, tm_min=41, tm_sec=0, tm_wday=3, tm_yday=207, tm_isdst=0)}"
      ]
     },
     "execution_count": 14,
     "metadata": {},
     "output_type": "execute_result"
    }
   ],
   "source": [
    "entries[0]"
   ]
  },
  {
   "cell_type": "code",
   "execution_count": null,
   "metadata": {},
   "outputs": [],
   "source": []
  }
 ],
 "metadata": {
  "kernelspec": {
   "display_name": "Python 3",
   "language": "python",
   "name": "python3"
  },
  "language_info": {
   "codemirror_mode": {
    "name": "ipython",
    "version": 3
   },
   "file_extension": ".py",
   "mimetype": "text/x-python",
   "name": "python",
   "nbconvert_exporter": "python",
   "pygments_lexer": "ipython3",
   "version": "3.6.6"
  }
 },
 "nbformat": 4,
 "nbformat_minor": 2
}
