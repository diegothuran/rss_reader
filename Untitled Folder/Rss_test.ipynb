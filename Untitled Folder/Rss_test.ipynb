{
 "cells": [
  {
   "cell_type": "code",
   "execution_count": 1,
   "metadata": {},
   "outputs": [],
   "source": [
    "import feedparser\n",
    "import pandas as pd\n",
    "import tldextract\n",
    "from Util import download_image, extract_domain, downlaod_and_move_image, get_noticia_uol, get_noticia_comercio\n",
    "import os\n",
    "from lexical_analyzer import lexical\n",
    "from site_wordpress import post_news"
   ]
  },
  {
   "cell_type": "code",
   "execution_count": 2,
   "metadata": {},
   "outputs": [],
   "source": [
    "hit_list = [\"https://www.jornaldocomercio.com/_conteudo/politica/rss.xml\",\n",
    "           \"http://pox.globo.com/rss/g1/politica/mensalao/\", \"https://feeds.folha.uol.com.br/poder/rss091.xml\"]\n",
    "\n",
    "future_calls = [feedparser.parse(rss_url) for rss_url in hit_list]"
   ]
  },
  {
   "cell_type": "code",
   "execution_count": 3,
   "metadata": {},
   "outputs": [],
   "source": [
    "entries = []\n",
    "for feed in future_calls:\n",
    "    entries.extend( feed[ \"items\" ] )"
   ]
  },
  {
   "cell_type": "code",
   "execution_count": 4,
   "metadata": {},
   "outputs": [],
   "source": [
    "resultados = pd.DataFrame({'titulos': [], 'links': [], 'noticia': [], 'image': [], \n",
    "                        'abstract': []})"
   ]
  },
  {
   "cell_type": "code",
   "execution_count": 5,
   "metadata": {
    "scrolled": true
   },
   "outputs": [
    {
     "name": "stderr",
     "output_type": "stream",
     "text": [
      "/home/diego/anaconda2/envs/rss2/lib/python2.7/site-packages/bs4/__init__.py:181: UserWarning: No parser was explicitly specified, so I'm using the best available HTML parser for this system (\"html5lib\"). This usually isn't a problem, but if you run this code on another system, or in a different virtual environment, it may use a different parser and behave differently.\n",
      "\n",
      "The code that caused this warning is on line 174 of the file /home/diego/anaconda2/envs/rss2/lib/python2.7/runpy.py. To get rid of this warning, change code that looks like this:\n",
      "\n",
      " BeautifulSoup(YOUR_MARKUP})\n",
      "\n",
      "to this:\n",
      "\n",
      " BeautifulSoup(YOUR_MARKUP, \"html5lib\")\n",
      "\n",
      "  markup_type=markup_type))\n"
     ]
    }
   ],
   "source": [
    "i = 0\n",
    "for entrie in entries:\n",
    "    i+=1\n",
    "    row = {'titulos': [], 'links': [], 'noticia': [], 'image': [], 'abstract': []}\n",
    "    domain = extract_domain(entrie['link'])\n",
    "    if  domain == 'globo':\n",
    "        row['titulos'].append(entrie['title'])\n",
    "        row['links'].append(entrie['link'])\n",
    "        row['noticia'].append(entrie['summary_detail']['value'])\n",
    "        row['abstract'].append(entrie['summary_detail']['value'])\n",
    "        if 'media_content' in entrie:\n",
    "            path_image = entrie['media_content'][0]['url']\n",
    "            row['image'].append(downlaod_and_move_image(path_image))\n",
    "        else:\n",
    "            row['image'].append(0)\n",
    "   \n",
    "    elif domain == 'jornaldocomercio':\n",
    "        row['titulos'].append(entrie['title'])\n",
    "        row['links'].append(entrie['link'])\n",
    "        row['abstract'].append(entrie['summary'])\n",
    "        noticia = get_noticia_comercio(entrie['link'])\n",
    "        row['noticia'].append(noticia)\n",
    "        if 'media_content' in entrie:\n",
    "            path_image = entrie['media_url']\n",
    "            if path_image != '':\n",
    "                row['image'].append(downlaod_and_move_image(path_image))\n",
    "            else:\n",
    "                row['image'].append(0)\n",
    "        else:\n",
    "            row['image'].append(0)\n",
    "    elif domain == 'folha':\n",
    "        pass\n",
    "    \n",
    "        \n",
    "    row = pd.DataFrame(row)\n",
    "    resultados = resultados.append(row)\n",
    "resultados.to_csv('results.csv', encoding='utf-8')"
   ]
  },
  {
   "cell_type": "code",
   "execution_count": 6,
   "metadata": {},
   "outputs": [
    {
     "name": "stdout",
     "output_type": "stream",
     "text": [
      "Writing table file\n",
      "End file\n"
     ]
    }
   ],
   "source": [
    "resultados_cat = lexical(resultados)"
   ]
  },
  {
   "cell_type": "code",
   "execution_count": 7,
   "metadata": {},
   "outputs": [
    {
     "name": "stdout",
     "output_type": "stream",
     "text": [
      "[set(['es', 'pv', 'pt', 'rede']), set(['rj', 'pt']), set(['ac', 'sp', 'prb', 'mdb', 'rede', 'es', 'pr', 'pp', 'pt', 'rs', 'pcdob', 'df', 'pe', 'pcb', 'psol', 'pi', 'psdb', 'psl', 'psb', 'psc', 'pstu', 'pode', 'pdt', 'dem', 'sd']), set(['sp', 'ma', 'pt', 'rs', 'pdt', 'pcdob', 'rn']), set(['psl', 'rede']), set([]), set(['pr', 'psdb', 'pp', 'pv', 'pt', 'rs', 'psb', 'pdt', 'pros', 'dc', 'psd', 'pcdob', 'pps', 'mdb', 'pcb', 'psol', 'ppl', 'sd']), set(['psdb', 'pp', 'pt', 'rs', 'mdb', 'pdt', 'pcdob', 'psol']), set(['pr', 'psdb']), set(['mdb']), set([]), set(['psdb', 'sp', 'psd']), set(['df', 'sp', 'pt']), set([]), set(['psdb', 'ac', 'sp', 'ba']), set(['psdb', 'ba', 'df', 'sp', 'ptb', 'go']), set(['pr', 'psdb', 'pp', 'prb', 'ac', 'dem', 'sd']), set(['df', 'sp', 'dc', 'rs']), set(['psdb', 'pv', 'rede']), set(['df', 'ac', 'sp', 'pt']), set(['rj']), set([]), set(['rj']), set(['mdb', 'df', 'rj', 'pr']), set(['pr', 'pp', 'pt', 'prb', 'pode', 'pdt', 'rs', 'dem', 'rede', 'sd']), set([]), set(['ac', 'sp', 'pt']), set(['mdb', 'dem', 'ce', 'rj']), set(['rj']), set(['psdb', 'pt', 'rs', 'df', 'sp', 'pe', 'rj']), set([]), set([]), set([]), set([]), set([]), set([]), set([]), set([]), set([]), set([])]\n"
     ]
    },
    {
     "ename": "AttributeError",
     "evalue": "'Series' object has no attribute 'translate'",
     "traceback": [
      "\u001b[0;31m---------------------------------------------------------------------------\u001b[0m",
      "\u001b[0;31mAttributeError\u001b[0m                            Traceback (most recent call last)",
      "\u001b[0;32m<ipython-input-7-37baa0b8d817>\u001b[0m in \u001b[0;36m<module>\u001b[0;34m()\u001b[0m\n\u001b[0;32m----> 1\u001b[0;31m \u001b[0mpost_news\u001b[0m\u001b[0;34m(\u001b[0m\u001b[0mresultados_cat\u001b[0m\u001b[0;34m)\u001b[0m\u001b[0;34m\u001b[0m\u001b[0m\n\u001b[0m",
      "\u001b[0;32m/home/diego/Documentos/rss_reader/Untitled Folder/site_wordpress.py\u001b[0m in \u001b[0;36mpost_news\u001b[0;34m(df)\u001b[0m\n\u001b[1;32m    248\u001b[0m             \u001b[0mtitle\u001b[0m \u001b[0;34m=\u001b[0m \u001b[0mdf\u001b[0m\u001b[0;34m[\u001b[0m\u001b[0;34m'titulos'\u001b[0m\u001b[0;34m]\u001b[0m\u001b[0;34m.\u001b[0m\u001b[0mvalues\u001b[0m\u001b[0;34m.\u001b[0m\u001b[0mtolist\u001b[0m\u001b[0;34m(\u001b[0m\u001b[0;34m)\u001b[0m\u001b[0;34m[\u001b[0m\u001b[0midx\u001b[0m\u001b[0;34m]\u001b[0m\u001b[0;34m\u001b[0m\u001b[0m\n\u001b[1;32m    249\u001b[0m             \u001b[0;31m# the wordpress categories index for the 'noticia' at idx_noticia index\u001b[0m\u001b[0;34m\u001b[0m\u001b[0;34m\u001b[0m\u001b[0m\n\u001b[0;32m--> 250\u001b[0;31m             \u001b[0mcategories\u001b[0m \u001b[0;34m=\u001b[0m \u001b[0mget_categories_idx\u001b[0m\u001b[0;34m(\u001b[0m\u001b[0mdf\u001b[0m\u001b[0;34m,\u001b[0m \u001b[0midx\u001b[0m\u001b[0;34m)\u001b[0m\u001b[0;34m\u001b[0m\u001b[0m\n\u001b[0m\u001b[1;32m    251\u001b[0m             \u001b[0mcats\u001b[0m \u001b[0;34m=\u001b[0m \u001b[0mjoin_strings\u001b[0m\u001b[0;34m(\u001b[0m\u001b[0mnp\u001b[0m\u001b[0;34m.\u001b[0m\u001b[0marray\u001b[0m\u001b[0;34m(\u001b[0m\u001b[0mcategories\u001b[0m\u001b[0;34m)\u001b[0m\u001b[0;34m.\u001b[0m\u001b[0mastype\u001b[0m\u001b[0;34m(\u001b[0m\u001b[0mstr\u001b[0m\u001b[0;34m)\u001b[0m\u001b[0;34m.\u001b[0m\u001b[0mtolist\u001b[0m\u001b[0;34m(\u001b[0m\u001b[0;34m)\u001b[0m\u001b[0;34m)\u001b[0m\u001b[0;34m\u001b[0m\u001b[0m\n\u001b[1;32m    252\u001b[0m \u001b[0;31m#             # the text of the 'noticia' and the link of the 'noticia'\u001b[0m\u001b[0;34m\u001b[0m\u001b[0;34m\u001b[0m\u001b[0m\n",
      "\u001b[0;32m/home/diego/Documentos/rss_reader/Untitled Folder/site_wordpress.py\u001b[0m in \u001b[0;36mget_categories_idx\u001b[0;34m(df, idx_noticia)\u001b[0m\n\u001b[1;32m    136\u001b[0m     \"\"\"\n\u001b[1;32m    137\u001b[0m     \u001b[0mcategories_noticias\u001b[0m \u001b[0;34m=\u001b[0m \u001b[0mdf\u001b[0m\u001b[0;34m[\u001b[0m\u001b[0;34m'categorias'\u001b[0m\u001b[0;34m]\u001b[0m\u001b[0;34m\u001b[0m\u001b[0m\n\u001b[0;32m--> 138\u001b[0;31m     \u001b[0mlist_categories\u001b[0m \u001b[0;34m=\u001b[0m \u001b[0mremove_punctuation\u001b[0m\u001b[0;34m(\u001b[0m\u001b[0mcategories_noticias\u001b[0m\u001b[0;34m[\u001b[0m\u001b[0midx_noticia\u001b[0m\u001b[0;34m]\u001b[0m\u001b[0;34m)\u001b[0m\u001b[0;34m.\u001b[0m\u001b[0msplit\u001b[0m\u001b[0;34m(\u001b[0m\u001b[0;34m)\u001b[0m\u001b[0;34m\u001b[0m\u001b[0m\n\u001b[0m\u001b[1;32m    139\u001b[0m     \u001b[0mcategories_idx\u001b[0m \u001b[0;34m=\u001b[0m \u001b[0;34m[\u001b[0m\u001b[0;34m]\u001b[0m\u001b[0;34m\u001b[0m\u001b[0m\n\u001b[1;32m    140\u001b[0m     \u001b[0;32mfor\u001b[0m \u001b[0mcategory\u001b[0m \u001b[0;32min\u001b[0m \u001b[0mlist_categories\u001b[0m\u001b[0;34m:\u001b[0m\u001b[0;34m\u001b[0m\u001b[0m\n",
      "\u001b[0;32m/home/diego/Documentos/rss_reader/Untitled Folder/site_wordpress.py\u001b[0m in \u001b[0;36mremove_punctuation\u001b[0;34m(input_text)\u001b[0m\n\u001b[1;32m    112\u001b[0m \u001b[0;31m#     # if python 3\u001b[0m\u001b[0;34m\u001b[0m\u001b[0;34m\u001b[0m\u001b[0m\n\u001b[1;32m    113\u001b[0m \u001b[0;31m#     trantab = str.maketrans(punct, len(punct) * ' ')  # Every punctuation symbol will be replaced by a space\u001b[0m\u001b[0;34m\u001b[0m\u001b[0;34m\u001b[0m\u001b[0m\n\u001b[0;32m--> 114\u001b[0;31m     \u001b[0;32mreturn\u001b[0m \u001b[0minput_text\u001b[0m\u001b[0;34m.\u001b[0m\u001b[0mtranslate\u001b[0m\u001b[0;34m(\u001b[0m\u001b[0mtrantab\u001b[0m\u001b[0;34m)\u001b[0m\u001b[0;34m\u001b[0m\u001b[0m\n\u001b[0m\u001b[1;32m    115\u001b[0m \u001b[0;34m\u001b[0m\u001b[0m\n\u001b[1;32m    116\u001b[0m \u001b[0;32mdef\u001b[0m \u001b[0mjoin_strings\u001b[0m\u001b[0;34m(\u001b[0m\u001b[0mlist_of_strings\u001b[0m\u001b[0;34m)\u001b[0m\u001b[0;34m:\u001b[0m\u001b[0;34m\u001b[0m\u001b[0m\n",
      "\u001b[0;32m/home/diego/anaconda2/envs/rss2/lib/python2.7/site-packages/pandas/core/generic.pyc\u001b[0m in \u001b[0;36m__getattr__\u001b[0;34m(self, name)\u001b[0m\n\u001b[1;32m   4374\u001b[0m             \u001b[0;32mif\u001b[0m \u001b[0mself\u001b[0m\u001b[0;34m.\u001b[0m\u001b[0m_info_axis\u001b[0m\u001b[0;34m.\u001b[0m\u001b[0m_can_hold_identifiers_and_holds_name\u001b[0m\u001b[0;34m(\u001b[0m\u001b[0mname\u001b[0m\u001b[0;34m)\u001b[0m\u001b[0;34m:\u001b[0m\u001b[0;34m\u001b[0m\u001b[0m\n\u001b[1;32m   4375\u001b[0m                 \u001b[0;32mreturn\u001b[0m \u001b[0mself\u001b[0m\u001b[0;34m[\u001b[0m\u001b[0mname\u001b[0m\u001b[0;34m]\u001b[0m\u001b[0;34m\u001b[0m\u001b[0m\n\u001b[0;32m-> 4376\u001b[0;31m             \u001b[0;32mreturn\u001b[0m \u001b[0mobject\u001b[0m\u001b[0;34m.\u001b[0m\u001b[0m__getattribute__\u001b[0m\u001b[0;34m(\u001b[0m\u001b[0mself\u001b[0m\u001b[0;34m,\u001b[0m \u001b[0mname\u001b[0m\u001b[0;34m)\u001b[0m\u001b[0;34m\u001b[0m\u001b[0m\n\u001b[0m\u001b[1;32m   4377\u001b[0m \u001b[0;34m\u001b[0m\u001b[0m\n\u001b[1;32m   4378\u001b[0m     \u001b[0;32mdef\u001b[0m \u001b[0m__setattr__\u001b[0m\u001b[0;34m(\u001b[0m\u001b[0mself\u001b[0m\u001b[0;34m,\u001b[0m \u001b[0mname\u001b[0m\u001b[0;34m,\u001b[0m \u001b[0mvalue\u001b[0m\u001b[0;34m)\u001b[0m\u001b[0;34m:\u001b[0m\u001b[0;34m\u001b[0m\u001b[0m\n",
      "\u001b[0;31mAttributeError\u001b[0m: 'Series' object has no attribute 'translate'"
     ],
     "output_type": "error"
    }
   ],
   "source": [
    "post_news(resultados_cat)"
   ]
  },
  {
   "cell_type": "code",
   "execution_count": null,
   "metadata": {},
   "outputs": [],
   "source": []
  },
  {
   "cell_type": "code",
   "execution_count": null,
   "metadata": {},
   "outputs": [],
   "source": []
  },
  {
   "cell_type": "code",
   "execution_count": null,
   "metadata": {},
   "outputs": [],
   "source": []
  },
  {
   "cell_type": "code",
   "execution_count": null,
   "metadata": {},
   "outputs": [],
   "source": []
  },
  {
   "cell_type": "code",
   "execution_count": null,
   "metadata": {},
   "outputs": [],
   "source": []
  },
  {
   "cell_type": "code",
   "execution_count": null,
   "metadata": {},
   "outputs": [],
   "source": []
  }
 ],
 "metadata": {
  "kernelspec": {
   "display_name": "Python 2",
   "language": "python",
   "name": "python2"
  },
  "language_info": {
   "codemirror_mode": {
    "name": "ipython",
    "version": 2
   },
   "file_extension": ".py",
   "mimetype": "text/x-python",
   "name": "python",
   "nbconvert_exporter": "python",
   "pygments_lexer": "ipython2",
   "version": "2.7.15"
  }
 },
 "nbformat": 4,
 "nbformat_minor": 2
}
